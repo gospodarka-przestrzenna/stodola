{
 "cells": [
  {
   "cell_type": "markdown",
   "metadata": {},
   "source": [
    "# Model stodoła\n",
    "\n",
    "That means aggregating to whole parts\n",
    "\n",
    "Data reqiured are sieckm_pot_nod.csv and DaneSIM.csv (later in code can be changed)"
   ]
  },
  {
   "cell_type": "code",
   "execution_count": 1,
   "metadata": {
    "collapsed": true
   },
   "outputs": [],
   "source": [
    "import csv"
   ]
  },
  {
   "cell_type": "code",
   "execution_count": 2,
   "metadata": {
    "collapsed": true
   },
   "outputs": [],
   "source": [
    "import sqlite3"
   ]
  },
  {
   "cell_type": "code",
   "execution_count": 3,
   "metadata": {
    "collapsed": false
   },
   "outputs": [],
   "source": [
    "with open(\"sieckm_pot_nod.csv\",'r') as cvsfile:\n",
    "    f=csv.DictReader(cvsfile)\n",
    "    fieldnames=f.fieldnames\n",
    "    csvf=[r for r in f]"
   ]
  },
  {
   "cell_type": "markdown",
   "metadata": {},
   "source": [
    "csvf is a list of dictionaries [{fieldname:value,...},{...}]. This contains elements in each ring. [{Id:1 , Ring0:\"13 16\" ,\"Ring1\":\"50 10 11\"....."
   ]
  },
  {
   "cell_type": "code",
   "execution_count": 4,
   "metadata": {
    "collapsed": false
   },
   "outputs": [],
   "source": [
    "#dbconnbkp=sqlite3.connect('stodola.db')\n",
    "dbconn=sqlite3.connect(':memory:')"
   ]
  },
  {
   "cell_type": "code",
   "execution_count": 5,
   "metadata": {
    "collapsed": true
   },
   "outputs": [],
   "source": [
    "c=dbconn.cursor()"
   ]
  },
  {
   "cell_type": "code",
   "execution_count": 6,
   "metadata": {
    "collapsed": false
   },
   "outputs": [
    {
     "data": {
      "text/plain": [
       "<sqlite3.Cursor at 0x102d32c70>"
      ]
     },
     "execution_count": 6,
     "metadata": {},
     "output_type": "execute_result"
    }
   ],
   "source": [
    "c.execute('''drop table if exists model''')"
   ]
  },
  {
   "cell_type": "code",
   "execution_count": 7,
   "metadata": {
    "collapsed": false
   },
   "outputs": [
    {
     "data": {
      "text/plain": [
       "<sqlite3.Cursor at 0x102d32c70>"
      ]
     },
     "execution_count": 7,
     "metadata": {},
     "output_type": "execute_result"
    }
   ],
   "source": [
    "c.execute('''drop table if exists distances''')"
   ]
  },
  {
   "cell_type": "code",
   "execution_count": 8,
   "metadata": {
    "collapsed": false
   },
   "outputs": [
    {
     "data": {
      "text/plain": [
       "<sqlite3.Cursor at 0x102d32c70>"
      ]
     },
     "execution_count": 8,
     "metadata": {},
     "output_type": "execute_result"
    }
   ],
   "source": [
    "c.execute('''create table distances (\n",
    "id integer, \n",
    "rel integer, \n",
    "ring integer)''')"
   ]
  },
  {
   "cell_type": "code",
   "execution_count": 9,
   "metadata": {
    "collapsed": false
   },
   "outputs": [
    {
     "data": {
      "text/plain": [
       "<sqlite3.Cursor at 0x102d32c70>"
      ]
     },
     "execution_count": 9,
     "metadata": {},
     "output_type": "execute_result"
    }
   ],
   "source": [
    "c.execute('''create table model (\n",
    "id integer,\n",
    "iteration integer,\n",
    "value real)\n",
    "''')"
   ]
  },
  {
   "cell_type": "markdown",
   "metadata": {},
   "source": [
    "ringnumbers is dict containing integer indexed string names of rings (of cvsf) {0:\"strefa_0\",1:\"strefa_1\",...}  "
   ]
  },
  {
   "cell_type": "code",
   "execution_count": 10,
   "metadata": {
    "collapsed": false
   },
   "outputs": [],
   "source": [
    "ringnumbers=dict([(int(fn.split(',')[0].split('_')[1]),fn) for fn in fieldnames if fn[:3]==\"STR\"])"
   ]
  },
  {
   "cell_type": "markdown",
   "metadata": {},
   "source": [
    "id_name is string name of index field in cvsf"
   ]
  },
  {
   "cell_type": "code",
   "execution_count": 11,
   "metadata": {
    "collapsed": false
   },
   "outputs": [],
   "source": [
    "id_name=[fn for fn in fieldnames if fn[:2]==\"ID\"][0]"
   ]
  },
  {
   "cell_type": "markdown",
   "metadata": {},
   "source": [
    "ids in ring example"
   ]
  },
  {
   "cell_type": "code",
   "execution_count": 12,
   "metadata": {
    "collapsed": false
   },
   "outputs": [
    {
     "data": {
      "text/plain": [
       "['20', '22']"
      ]
     },
     "execution_count": 12,
     "metadata": {},
     "output_type": "execute_result"
    }
   ],
   "source": [
    "csvf[7][ringnumbers[3]].split()"
   ]
  },
  {
   "cell_type": "markdown",
   "metadata": {},
   "source": [
    "Distance in distance table is ring number if 5 is in ring 10 of node 3 then we can say distance 3 to 5 is 10!"
   ]
  },
  {
   "cell_type": "code",
   "execution_count": 13,
   "metadata": {
    "collapsed": false
   },
   "outputs": [],
   "source": [
    "for row in csvf:\n",
    "    id_n=row[id_name]\n",
    "    for r in ringnumbers.keys():\n",
    "        for rel in row[ringnumbers[r]].split():\n",
    "            c.execute('''insert into distances values (?,?,?)''',(id_n,int(rel),r))"
   ]
  },
  {
   "cell_type": "code",
   "execution_count": 14,
   "metadata": {
    "collapsed": false
   },
   "outputs": [
    {
     "name": "stdout",
     "output_type": "stream",
     "text": [
      "(544575,)\n"
     ]
    }
   ],
   "source": [
    "print(c.execute('''select count(*) from distances''').fetchone())"
   ]
  },
  {
   "cell_type": "code",
   "execution_count": 15,
   "metadata": {
    "collapsed": false
   },
   "outputs": [],
   "source": [
    "with open(\"DaneSIM.csv\",'r') as cvsfile:\n",
    "    f=csv.DictReader(cvsfile)\n",
    "    fieldnamesd=f.fieldnames\n",
    "    csvfd=[r for r in f]"
   ]
  },
  {
   "cell_type": "markdown",
   "metadata": {},
   "source": [
    "cvsfd readed data\n",
    "Each row is each region. Each contains data of iteration \"Dest1\":310 ,\"Dest2\":531..."
   ]
  },
  {
   "cell_type": "markdown",
   "metadata": {},
   "source": [
    "iternumbers contains name of iteration indexed by number of iteration {0:\"Dest0\", 1: \"Dest1\"...."
   ]
  },
  {
   "cell_type": "code",
   "execution_count": 16,
   "metadata": {
    "collapsed": false
   },
   "outputs": [],
   "source": [
    "iternumbers=dict([(int(fn.split('_')[1]),fn) for fn in fieldnamesd if fn[:3]==\"DES\"])"
   ]
  },
  {
   "cell_type": "markdown",
   "metadata": {},
   "source": [
    "Name of ID field "
   ]
  },
  {
   "cell_type": "code",
   "execution_count": 17,
   "metadata": {
    "collapsed": false
   },
   "outputs": [
    {
     "data": {
      "text/plain": [
       "'ID'"
      ]
     },
     "execution_count": 17,
     "metadata": {},
     "output_type": "execute_result"
    }
   ],
   "source": [
    "id_named=[fn for fn in fieldnamesd if fn[:2]==\"ID\"][0];id_named"
   ]
  },
  {
   "cell_type": "markdown",
   "metadata": {},
   "source": [
    "### WARNING !!\n",
    "\n",
    "Here we retrive reality from multilied REAL! observations.\n",
    "\n",
    "In reality variable we store reality as dict indexed by  {0:0,1:0,2:1,3:0,4:1,5:2,6:0..."
   ]
  },
  {
   "cell_type": "code",
   "execution_count": 18,
   "metadata": {
    "collapsed": false
   },
   "outputs": [],
   "source": [
    "reality_column_name='pkt_archeo'\n",
    "multiplier=7320\n",
    "\n",
    "reality={row[id_named]:int(row[reality_column_name])//multiplier for row in csvfd}\n",
    "assert sum(reality.values())==sum([int(row[reality_column_name]) for row in csvfd])//multiplier"
   ]
  },
  {
   "cell_type": "code",
   "execution_count": 19,
   "metadata": {
    "collapsed": false
   },
   "outputs": [
    {
     "data": {
      "text/plain": [
       "<sqlite3.Cursor at 0x102d32c70>"
      ]
     },
     "execution_count": 19,
     "metadata": {},
     "output_type": "execute_result"
    }
   ],
   "source": [
    "c.execute('''drop table if exists reality''')"
   ]
  },
  {
   "cell_type": "code",
   "execution_count": 20,
   "metadata": {
    "collapsed": false,
    "scrolled": true
   },
   "outputs": [
    {
     "data": {
      "text/plain": [
       "<sqlite3.Cursor at 0x102d32c70>"
      ]
     },
     "execution_count": 20,
     "metadata": {},
     "output_type": "execute_result"
    }
   ],
   "source": [
    "c.execute('''create table reality (\n",
    "id integer,\n",
    "value real)\n",
    "''')"
   ]
  },
  {
   "cell_type": "code",
   "execution_count": 21,
   "metadata": {
    "collapsed": false
   },
   "outputs": [],
   "source": [
    "for k,v in reality.items():\n",
    "    c.execute('''insert into reality values (?,?)''',(int(k),v))"
   ]
  },
  {
   "cell_type": "code",
   "execution_count": null,
   "metadata": {
    "collapsed": false
   },
   "outputs": [],
   "source": []
  },
  {
   "cell_type": "code",
   "execution_count": 22,
   "metadata": {
    "collapsed": false
   },
   "outputs": [
    {
     "data": {
      "text/plain": [
       "<sqlite3.Cursor at 0x102d32c70>"
      ]
     },
     "execution_count": 22,
     "metadata": {},
     "output_type": "execute_result"
    }
   ],
   "source": [
    "c.execute('''delete from model''')"
   ]
  },
  {
   "cell_type": "markdown",
   "metadata": {},
   "source": [
    "We store model values from each iteration. "
   ]
  },
  {
   "cell_type": "code",
   "execution_count": 23,
   "metadata": {
    "collapsed": false
   },
   "outputs": [],
   "source": [
    "for row in csvfd:\n",
    "    id_n=row[id_named]\n",
    "    for it in iternumbers.keys():\n",
    "        c.execute('''insert into model values (?,?,?)''',(id_n,it,float(row[iternumbers[it]])))"
   ]
  },
  {
   "cell_type": "code",
   "execution_count": 25,
   "metadata": {
    "collapsed": false
   },
   "outputs": [
    {
     "data": {
      "text/plain": [
       "(73800,)"
      ]
     },
     "execution_count": 25,
     "metadata": {},
     "output_type": "execute_result"
    }
   ],
   "source": [
    "c.execute('''select count(*) from model''').fetchone()"
   ]
  },
  {
   "cell_type": "code",
   "execution_count": 26,
   "metadata": {
    "collapsed": false
   },
   "outputs": [
    {
     "data": {
      "text/plain": [
       "738"
      ]
     },
     "execution_count": 26,
     "metadata": {},
     "output_type": "execute_result"
    }
   ],
   "source": [
    "len(csvfd)"
   ]
  },
  {
   "cell_type": "code",
   "execution_count": 27,
   "metadata": {
    "collapsed": false
   },
   "outputs": [
    {
     "data": {
      "text/plain": [
       "<sqlite3.Cursor at 0x102d32c70>"
      ]
     },
     "execution_count": 27,
     "metadata": {},
     "output_type": "execute_result"
    }
   ],
   "source": [
    "c.execute('drop table if exists stodola')"
   ]
  },
  {
   "cell_type": "markdown",
   "metadata": {},
   "source": [
    "This will be table of full stodołas"
   ]
  },
  {
   "cell_type": "code",
   "execution_count": 28,
   "metadata": {
    "collapsed": false
   },
   "outputs": [
    {
     "data": {
      "text/plain": [
       "<sqlite3.Cursor at 0x102d32c70>"
      ]
     },
     "execution_count": 28,
     "metadata": {},
     "output_type": "execute_result"
    }
   ],
   "source": [
    "c.execute('''create table stodola (\n",
    "id integer, \n",
    "iteration integer, \n",
    "noofstodola integer)''')"
   ]
  },
  {
   "cell_type": "code",
   "execution_count": 29,
   "metadata": {
    "collapsed": false
   },
   "outputs": [
    {
     "data": {
      "text/plain": [
       "<sqlite3.Cursor at 0x102d32c70>"
      ]
     },
     "execution_count": 29,
     "metadata": {},
     "output_type": "execute_result"
    }
   ],
   "source": [
    "c.execute('drop table if exists stodola_part')"
   ]
  },
  {
   "cell_type": "markdown",
   "metadata": {},
   "source": [
    "This will be list of not assigned parts of stodolas yet"
   ]
  },
  {
   "cell_type": "code",
   "execution_count": 30,
   "metadata": {
    "collapsed": false
   },
   "outputs": [
    {
     "data": {
      "text/plain": [
       "<sqlite3.Cursor at 0x102d32c70>"
      ]
     },
     "execution_count": 30,
     "metadata": {},
     "output_type": "execute_result"
    }
   ],
   "source": [
    "c.execute('''create table stodola_part (\n",
    "id integer,\n",
    "iteration integer, \n",
    "stodolapart real)''')"
   ]
  },
  {
   "cell_type": "code",
   "execution_count": 31,
   "metadata": {
    "collapsed": false
   },
   "outputs": [
    {
     "data": {
      "text/plain": [
       "<sqlite3.Cursor at 0x102d32c70>"
      ]
     },
     "execution_count": 31,
     "metadata": {},
     "output_type": "execute_result"
    }
   ],
   "source": [
    "c.execute('delete from stodola')"
   ]
  },
  {
   "cell_type": "code",
   "execution_count": 32,
   "metadata": {
    "collapsed": false
   },
   "outputs": [
    {
     "data": {
      "text/plain": [
       "<sqlite3.Cursor at 0x102d32c70>"
      ]
     },
     "execution_count": 32,
     "metadata": {},
     "output_type": "execute_result"
    }
   ],
   "source": [
    "c.execute('delete from stodola_part')"
   ]
  },
  {
   "cell_type": "markdown",
   "metadata": {},
   "source": [
    "Initially we want all values to be parts"
   ]
  },
  {
   "cell_type": "code",
   "execution_count": 33,
   "metadata": {
    "collapsed": false
   },
   "outputs": [
    {
     "data": {
      "text/plain": [
       "<sqlite3.Cursor at 0x102d32c70>"
      ]
     },
     "execution_count": 33,
     "metadata": {},
     "output_type": "execute_result"
    }
   ],
   "source": [
    "c.execute('insert into stodola_part select * from model')"
   ]
  },
  {
   "cell_type": "markdown",
   "metadata": {},
   "source": [
    "we have no full stodołas "
   ]
  },
  {
   "cell_type": "code",
   "execution_count": 34,
   "metadata": {
    "collapsed": false
   },
   "outputs": [
    {
     "data": {
      "text/plain": [
       "<sqlite3.Cursor at 0x102d32c70>"
      ]
     },
     "execution_count": 34,
     "metadata": {},
     "output_type": "execute_result"
    }
   ],
   "source": [
    "c.execute('insert into stodola select id,iteration,0 from model')"
   ]
  },
  {
   "cell_type": "markdown",
   "metadata": {},
   "source": [
    "### How many stodoła we want to have finally"
   ]
  },
  {
   "cell_type": "code",
   "execution_count": 35,
   "metadata": {
    "collapsed": false
   },
   "outputs": [],
   "source": [
    "stodolas_number=386"
   ]
  },
  {
   "cell_type": "markdown",
   "metadata": {},
   "source": [
    "How many modeled values for one (in tenth iteratio)  stodola (test only)"
   ]
  },
  {
   "cell_type": "code",
   "execution_count": 36,
   "metadata": {
    "collapsed": true
   },
   "outputs": [],
   "source": [
    "assert c.execute('''select sum(value) from reality''').fetchone()[0]==stodolas_number"
   ]
  },
  {
   "cell_type": "code",
   "execution_count": 37,
   "metadata": {
    "collapsed": false
   },
   "outputs": [
    {
     "data": {
      "text/plain": [
       "6228.59067357513"
      ]
     },
     "execution_count": 37,
     "metadata": {},
     "output_type": "execute_result"
    }
   ],
   "source": [
    "c.execute('select sum(stodolapart) from stodola_part where iteration=?',[10]).fetchone()[0]/stodolas_number"
   ]
  },
  {
   "cell_type": "code",
   "execution_count": 38,
   "metadata": {
    "collapsed": false
   },
   "outputs": [],
   "source": [
    "c.close();c=dbconn.cursor()"
   ]
  },
  {
   "cell_type": "markdown",
   "metadata": {},
   "source": [
    "ids is stored list of id"
   ]
  },
  {
   "cell_type": "code",
   "execution_count": 39,
   "metadata": {
    "collapsed": false
   },
   "outputs": [],
   "source": [
    "ids=[i[0] for i in c.execute('select distinct id from stodola')];"
   ]
  },
  {
   "cell_type": "markdown",
   "metadata": {},
   "source": [
    "Function names says it all. Remaining parts sum of and the greatest part with id for iteration stated as parameter."
   ]
  },
  {
   "cell_type": "code",
   "execution_count": 40,
   "metadata": {
    "collapsed": false
   },
   "outputs": [
    {
     "data": {
      "text/plain": [
       "2404236.0"
      ]
     },
     "execution_count": 40,
     "metadata": {},
     "output_type": "execute_result"
    }
   ],
   "source": [
    "def remaining_parts(it):\n",
    "    return c.execute('select sum(stodolapart) from stodola_part where iteration=?',[it]).fetchone()[0]\n",
    "remaining_parts(10)"
   ]
  },
  {
   "cell_type": "code",
   "execution_count": 41,
   "metadata": {
    "collapsed": false
   },
   "outputs": [
    {
     "data": {
      "text/plain": [
       "(454, 8443.0)"
      ]
     },
     "execution_count": 41,
     "metadata": {},
     "output_type": "execute_result"
    }
   ],
   "source": [
    "def bigest_stodola(it):\n",
    "    return c.execute('select id,max(stodolapart) from stodola_part where iteration=?',[it]).fetchone()\n",
    "bigest_stodola(1)"
   ]
  },
  {
   "cell_type": "markdown",
   "metadata": {},
   "source": [
    "Following: some test and indexes nothing interesting here"
   ]
  },
  {
   "cell_type": "code",
   "execution_count": 42,
   "metadata": {
    "collapsed": false
   },
   "outputs": [
    {
     "data": {
      "text/plain": [
       "(69,)"
      ]
     },
     "execution_count": 42,
     "metadata": {},
     "output_type": "execute_result"
    }
   ],
   "source": [
    "c.execute('select max(ring) from distances where id=? ',[10]).fetchone()"
   ]
  },
  {
   "cell_type": "code",
   "execution_count": 43,
   "metadata": {
    "collapsed": false
   },
   "outputs": [
    {
     "data": {
      "text/plain": [
       "[]"
      ]
     },
     "execution_count": 43,
     "metadata": {},
     "output_type": "execute_result"
    }
   ],
   "source": [
    "c.execute('select rel from distances where id=? and ring=?',[559,1]).fetchall()"
   ]
  },
  {
   "cell_type": "code",
   "execution_count": 44,
   "metadata": {
    "collapsed": false
   },
   "outputs": [
    {
     "data": {
      "text/plain": [
       "(6211.0,)"
      ]
     },
     "execution_count": 44,
     "metadata": {},
     "output_type": "execute_result"
    }
   ],
   "source": [
    "c.execute('''select sum(stodolapart) \n",
    "            from stodola_part \n",
    "            where iteration=? and \n",
    "            id in (select rel from distances  where id=? and ring=?)''',[1,559,0]).fetchone()"
   ]
  },
  {
   "cell_type": "code",
   "execution_count": 45,
   "metadata": {
    "collapsed": false
   },
   "outputs": [],
   "source": [
    "c.execute('create index if not exists distances_id_idx on distances (id)');\n",
    "c.execute('create index if not exists distances_ring_idx on distances (ring)');"
   ]
  },
  {
   "cell_type": "code",
   "execution_count": 46,
   "metadata": {
    "collapsed": false
   },
   "outputs": [],
   "source": [
    "c.execute('create index if not exists stodola_id_idx on stodola (id)');\n",
    "c.execute('create index if not exists stodola_iteration_idx on stodola (iteration)');\n",
    "c.execute('create index if not exists stodola_noofstodola_idx on stodola (noofstodola)');"
   ]
  },
  {
   "cell_type": "code",
   "execution_count": 47,
   "metadata": {
    "collapsed": false
   },
   "outputs": [],
   "source": [
    "c.execute('create index if not exists stodola_part_id_idx on stodola_part (id)');\n",
    "c.execute('create index if not exists stodola_part_iteration_idx on stodola_part (iteration)');\n",
    "c.execute('create index if not exists stodola_part_noofstodola_idx on stodola_part (stodolapart)');"
   ]
  },
  {
   "cell_type": "markdown",
   "metadata": {},
   "source": [
    "##### Fitnaess original \n",
    "\n",
    "fitness between reality and model\n",
    "\n",
    "Model is divided so that it fits reality\n",
    "\n",
    "We may say we use Euclid metrics but this can be changet into ex.: Marczewski - Steinhauss\n",
    "We do not normalize as for now only relative chenges, in which model is better are, mesured\n",
    "In other words this gives us relative not absolute model fitness"
   ]
  },
  {
   "cell_type": "code",
   "execution_count": null,
   "metadata": {
    "collapsed": true
   },
   "outputs": [],
   "source": [
    "for it in iternumbers.keys():\n",
    "    print(it)\n",
    "\n",
    "    with open('fitness_original.csv','w') as csvfitness:\n",
    "        fields=[iternumbers[i+1] for i in range(it)]\n",
    "        writer=csv.DictWriter(csvfitness,fieldnames=fields)\n",
    "        writer.writeheader()\n",
    "        \n",
    "        row_dict=dict(c.execute('''\n",
    "            select\n",
    "                iteration,sum((model.value/?-reality.value)*(model.value/?-reality.value)) \n",
    "            from \n",
    "                model,\n",
    "                reality \n",
    "            where\n",
    "                model.id=reality.id and\n",
    "                iteration<=?\n",
    "            group by\n",
    "                iteration''',[multiplier,multiplier,it]).fetchall())\n",
    "        \n",
    "        row_dict={iternumbers[k]:v**0.5 for k,v in row_dict.items()}\n",
    "        writer.writerow(row_dict)     "
   ]
  },
  {
   "cell_type": "markdown",
   "metadata": {},
   "source": [
    "#### Main part\n",
    "## Stodolas algoritm\n",
    "\n",
    "Warning it might be slow (about 1 iteration per 3 sec)\n"
   ]
  },
  {
   "cell_type": "code",
   "execution_count": 52,
   "metadata": {
    "collapsed": false
   },
   "outputs": [
    {
     "name": "stdout",
     "output_type": "stream",
     "text": [
      "1\n",
      "2\n",
      "3\n",
      "4\n",
      "5\n",
      "6\n",
      "7\n",
      "8\n",
      "9\n",
      "10\n",
      "11\n",
      "12\n",
      "13\n",
      "14\n",
      "15\n",
      "16\n",
      "17\n",
      "18\n",
      "19\n",
      "20\n",
      "21\n",
      "22\n",
      "23\n",
      "24\n",
      "25\n",
      "26\n",
      "27\n",
      "28\n",
      "29\n",
      "30\n",
      "31\n",
      "32\n",
      "33\n",
      "34\n",
      "35\n",
      "36\n",
      "37\n",
      "38\n",
      "39\n",
      "40\n",
      "41\n",
      "42\n",
      "43\n",
      "44\n",
      "45\n",
      "46\n",
      "47\n",
      "48\n",
      "49\n",
      "50\n",
      "51\n",
      "52\n",
      "53\n",
      "54\n",
      "55\n",
      "56\n",
      "57\n",
      "58\n",
      "59\n",
      "60\n",
      "61\n",
      "62\n",
      "63\n",
      "64\n",
      "65\n",
      "66\n",
      "67\n",
      "68\n",
      "69\n",
      "70\n",
      "71\n",
      "72\n",
      "73\n",
      "74\n",
      "75\n",
      "76\n",
      "77\n",
      "78\n",
      "79\n",
      "80\n",
      "81\n",
      "82\n",
      "83\n",
      "84\n",
      "85\n",
      "86\n",
      "87\n",
      "88\n",
      "89\n",
      "90\n",
      "91\n",
      "92\n",
      "93\n",
      "94\n",
      "95\n",
      "96\n",
      "97\n",
      "98\n",
      "99\n",
      "100\n"
     ]
    }
   ],
   "source": [
    "#prepare database\n",
    "c.execute('delete from stodola')\n",
    "c.execute('delete from stodola_part')\n",
    "c.execute('insert into stodola_part select * from model')\n",
    "c.execute('insert into stodola select id,iteration,0 from model')\n",
    "\n",
    "#each iteration we consider separately\n",
    "for it in iternumbers.keys():\n",
    "    print(it)\n",
    "    stodola_size=remaining_parts(it)/stodolas_number\n",
    "    #extract whole stodolas\n",
    "    idn,maks=bigest_stodola(it)\n",
    "    while maks>=stodola_size:\n",
    "        #keep integer part and fraction part\n",
    "        noofstodola=int(maks//stodola_size)\n",
    "        new_size=maks%stodola_size\n",
    "        c.execute('update stodola_part set stodolapart=? where id=? and iteration=?',[new_size,idn,it])\n",
    "        c.execute('update stodola set noofstodola=? where id=? and iteration=?',[noofstodola,idn,it])\n",
    "        idn,maks=bigest_stodola(it)\n",
    "    #extract bigest stodola \n",
    "    #here we have bigest stodola computed and corresponding id\n",
    "    #last bigest migh not be strictly equal stodola_size (deal with numerical errors !)\n",
    "    while remaining_parts(it)>0.9*stodola_size:\n",
    "        stodola_to_find=stodola_size-maks\n",
    "        #new full stodola\n",
    "        c.execute('update stodola set noofstodola=noofstodola+1 where id=? and iteration=?',[idn,it])\n",
    "        #stodola fully build no parts remains\n",
    "        c.execute('update stodola_part set stodolapart=0 where id=? and iteration=?',[idn,it])\n",
    "        max_strefa=c.execute('select max(ring) from distances where id=?',[idn]).fetchone()[0]\n",
    "        #we keep reducucing each ring/strefa until stodola is fully biuld\n",
    "        for ring in range(max_strefa):\n",
    "            #we dont use ring 0 we use only 1..last+1\n",
    "            #rels=[i[0] for i in c.execute('select rel from distances where id=? and ring=?',[idn,ring]).fetchall()]\n",
    "            value_total_in_rels=c.execute('''select sum(stodolapart) \n",
    "            from stodola_part \n",
    "            where iteration=? and \n",
    "            id in (select rel from distances  where id=? and ring=?)''',[it,idn,ring+1]).fetchone()[0]\n",
    "            if not value_total_in_rels:\n",
    "                value_total_in_rels=0\n",
    "            if value_total_in_rels>stodola_to_find:\n",
    "                scale=(value_total_in_rels-stodola_to_find)/value_total_in_rels\n",
    "                c.execute('''update stodola_part \n",
    "                set stodolapart=stodolapart*? \n",
    "                where iteration=? and \n",
    "                id in (select rel from distances  where id=? and ring=?)''',[scale,it,idn,ring+1])\n",
    "                break\n",
    "            else:\n",
    "                c.execute('''update stodola_part \n",
    "                set stodolapart=0\n",
    "                where iteration=? and \n",
    "                id in (select rel from distances  where id=? and ring=?)''',[it,idn,ring+1])\n",
    "                stodola_to_find=stodola_to_find-value_total_in_rels\n",
    "        idn,maks=bigest_stodola(it)\n",
    "\n",
    "    \n",
    "    # I create CSV after each iteration CSV contains stodolas for each iteration in data\n",
    "    with open('stodoly.csv','w') as csvstodoly:\n",
    "        fields=[id_named]+[iternumbers[i+1] for i in range(it)]\n",
    "        writer=csv.DictWriter(csvstodoly,fieldnames=fields)\n",
    "        writer.writeheader()\n",
    "        for idn in ids:\n",
    "            row_dict=dict(c.execute('select iteration,noofstodola from stodola where id=? and iteration<=?',[idn,it]).fetchall())\n",
    "            row_dict={iternumbers[k]:v for k,v in row_dict.items()}           \n",
    "            row_dict[id_named]=idn\n",
    "            writer.writerow(row_dict)                \n",
    "\n",
    "    # I create CSV after each iteration CSV contains geometric distance between REALITY and MODEL\n",
    "    # We may say we use Euclid metrics but this can be changet into ex.: Marczewski - Steinhauss\n",
    "    # We do not normalize as for now only relative chenges, in which model is better are, mesured\n",
    "    # In other words this gives us relative not absolute model fitness\n",
    "    with open('fitness.csv','w') as csvfitness:\n",
    "        fields=[iternumbers[i+1] for i in range(it)]\n",
    "        writer=csv.DictWriter(csvfitness,fieldnames=fields)\n",
    "        writer.writeheader()\n",
    "        \n",
    "        row_dict=dict(c.execute('''\n",
    "            select\n",
    "                iteration,sum((stodola.noofstodola-reality.value)*(stodola.noofstodola-reality.value)) \n",
    "            from \n",
    "                stodola,\n",
    "                reality \n",
    "            where\n",
    "                stodola.id=reality.id and\n",
    "                iteration<=?\n",
    "            group by\n",
    "                iteration''',[it]).fetchall())\n",
    "        \n",
    "        row_dict={iternumbers[k]:v**0.5 for k,v in row_dict.items()}\n",
    "        writer.writerow(row_dict)                "
   ]
  },
  {
   "cell_type": "code",
   "execution_count": 87,
   "metadata": {
    "collapsed": false
   },
   "outputs": [],
   "source": [
    "c.execute('select * from stodola ').fetchall();"
   ]
  },
  {
   "cell_type": "markdown",
   "metadata": {},
   "source": [
    "I tried to make visualisation (it wont work so just don't do following code)"
   ]
  },
  {
   "cell_type": "markdown",
   "metadata": {
    "collapsed": false
   },
   "source": [
    "import folium,json"
   ]
  },
  {
   "cell_type": "markdown",
   "metadata": {
    "collapsed": false
   },
   "source": [
    "map_osm = folium.Map(location=[50.2, 18.0],zoom_start=9)"
   ]
  },
  {
   "cell_type": "markdown",
   "metadata": {
    "collapsed": false
   },
   "source": [
    "gj=folium.GeoJson(open('./stodoly.geojson'),\n",
    "                  style_function=lambda feature: {\n",
    "        'fillColor': '#ffff00',\n",
    "        'color': 'black',\n",
    "        'weight': feature['properties']['stodoly_DEST_30'],\n",
    "        'dashArray': '5, 5'\n",
    "    }\n",
    "                 ).add_to(map_osm)"
   ]
  },
  {
   "cell_type": "markdown",
   "metadata": {
    "collapsed": false
   },
   "source": [
    "folium.features.CircleMarker()"
   ]
  },
  {
   "cell_type": "code",
   "execution_count": null,
   "metadata": {
    "collapsed": true
   },
   "outputs": [],
   "source": []
  },
  {
   "cell_type": "code",
   "execution_count": null,
   "metadata": {
    "collapsed": true
   },
   "outputs": [],
   "source": []
  },
  {
   "cell_type": "code",
   "execution_count": null,
   "metadata": {
    "collapsed": true
   },
   "outputs": [],
   "source": []
  }
 ],
 "metadata": {
  "kernelspec": {
   "display_name": "Python 3",
   "language": "python",
   "name": "python3"
  },
  "language_info": {
   "codemirror_mode": {
    "name": "ipython",
    "version": 3
   },
   "file_extension": ".py",
   "mimetype": "text/x-python",
   "name": "python",
   "nbconvert_exporter": "python",
   "pygments_lexer": "ipython3",
   "version": "3.5.2"
  }
 },
 "nbformat": 4,
 "nbformat_minor": 0
}
